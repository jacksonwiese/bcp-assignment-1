{
  "metadata": {
    "language_info": {
      "codemirror_mode": {
        "name": "python",
        "version": 3
      },
      "file_extension": ".py",
      "mimetype": "text/x-python",
      "name": "python",
      "nbconvert_exporter": "python",
      "pygments_lexer": "ipython3",
      "version": "3.8"
    },
    "kernelspec": {
      "name": "python",
      "display_name": "Python (Pyodide)",
      "language": "python"
    }
  },
  "nbformat_minor": 4,
  "nbformat": 4,
  "cells": [
    {
      "cell_type": "markdown",
      "source": "# Assignment #1",
      "metadata": {}
    },
    {
      "cell_type": "markdown",
      "source": "Goal: The goal of assignment #1 is experiment with OOP to prepare for upper level programming for the Bitcoin Protocol. \n\nSubmit the single zip file with pdf and. ipynb file in canvas",
      "metadata": {}
    },
    {
      "cell_type": "markdown",
      "source": "## Imports",
      "metadata": {}
    },
    {
      "cell_type": "code",
      "source": "import math",
      "metadata": {
        "trusted": true
      },
      "execution_count": 104,
      "outputs": []
    },
    {
      "cell_type": "markdown",
      "source": "## Part 1",
      "metadata": {}
    },
    {
      "cell_type": "code",
      "source": "class Shapes:\n    def __init__(self, shape_name): \n       self.shape_name = shape_name \n    def __repr__(self):\n        return f\"{self.shape_name} is a shape\" # Used f string here rather than concatenation because it wouldn't work",
      "metadata": {
        "trusted": true
      },
      "execution_count": 105,
      "outputs": []
    },
    {
      "cell_type": "code",
      "source": "pentagon = Shapes(\"Circle\")\nprint(pentagon)",
      "metadata": {
        "trusted": true
      },
      "execution_count": 106,
      "outputs": [
        {
          "name": "stdout",
          "text": "Circle is a shape\n",
          "output_type": "stream"
        }
      ]
    },
    {
      "cell_type": "markdown",
      "source": "## Part 2",
      "metadata": {}
    },
    {
      "cell_type": "code",
      "source": "pi = math.pi\n\nclass Circle(Shapes):\n    def __init__(self, radius):\n        self.radius = radius\n    def __repr__(self):\n        return f\"A circle has a radius of {self.radius}\" # Same here^ on the f string\n    def area(self):\n        return pi * (self.radius**2)\n    def perimeter(self): \n        return 2 * self.radius * pi",
      "metadata": {
        "trusted": true
      },
      "execution_count": 107,
      "outputs": []
    },
    {
      "cell_type": "code",
      "source": "circle1 = Circle(5)\nprint(circle1, \"\\n\")\n\nc1Area = circle1.area()\nprint(\"The area of the circle is\", c1Area, \"\\n\")\n\nc1Perimeter = circle1.perimeter()\nprint(\"The area of the circle is\", c1Perimeter, \"\\n\")",
      "metadata": {
        "trusted": true
      },
      "execution_count": 108,
      "outputs": [
        {
          "name": "stdout",
          "text": "A circle has a radius of 5 \n\nThe area of the circle is 78.53981633974483 \n\nThe area of the circle is 31.41592653589793 \n\n",
          "output_type": "stream"
        }
      ]
    },
    {
      "cell_type": "markdown",
      "source": "## Part 3",
      "metadata": {}
    },
    {
      "cell_type": "code",
      "source": "class Rectangle(Shapes):\n    def __init__(self, length, width):\n        self.length = length\n        self.width = width\n    def __repr__(self):\n        return f\"This rectange has a length of {self.length} and width of {self.width}\"\n    def area(self):\n        return self.width * self.length\n    def perimeter(self):\n        return (2 * self.length) + (2 * self.width)",
      "metadata": {
        "trusted": true
      },
      "execution_count": 109,
      "outputs": []
    },
    {
      "cell_type": "code",
      "source": "rectangle1 = Rectangle(20, 10)\nprint(rectangle1, \"\\n\")\n\nr1Area = rectangle1.area()\nprint(\"This rectangle has an area of\", r1Area, \"\\n\")\n\nr1Perimeter = rectangle1.perimeter()\nprint(\"This rectangle has an perimeter of\", r1Perimeter, \"\\n\")",
      "metadata": {
        "trusted": true
      },
      "execution_count": 110,
      "outputs": [
        {
          "name": "stdout",
          "text": "This rectange has a length of 20 and width of 10 \n\nThis rectangle has an area of 200 \n\nThis rectangle has an perimeter of 60 \n\n",
          "output_type": "stream"
        }
      ]
    },
    {
      "cell_type": "markdown",
      "source": "## Part 4",
      "metadata": {}
    },
    {
      "cell_type": "code",
      "source": "class Square(Rectangle):\n    def __init__(self, length):\n        #self.length = length\n        super().__init__(length, length)\n    def __repr__(self):\n        return f\"This square has a side length of {self.length}\"\n    def square_perimeter(self):\n        return 4 * self.length",
      "metadata": {
        "trusted": true
      },
      "execution_count": 111,
      "outputs": []
    },
    {
      "cell_type": "code",
      "source": "square1 = Square(5)\nprint(square1, \"\\n\")\n\nsq1Per = square1.square_perimeter()\nprint(\"The perimeter of square1 is\", sq1Per, \"\\n\")\nprint(\"The perimeter of square1 when treated as a rectangle is\", square1.perimeter(), \"\\n\")",
      "metadata": {
        "trusted": true
      },
      "execution_count": 112,
      "outputs": [
        {
          "name": "stdout",
          "text": "This square has a side length of 5 \n\nThe perimeter of square1 is 20 \n\nThe perimeter of square1 when treated as a rectangle is 20 \n\n",
          "output_type": "stream"
        }
      ]
    },
    {
      "cell_type": "markdown",
      "source": "## Part 5",
      "metadata": {}
    },
    {
      "cell_type": "code",
      "source": "class Triangle(Shapes):\n    def __init__(self, base, height):\n        self.base = base\n        self.height = height\n    def __repr__(self):\n        return f\"A triangle of base {self.base} and height {self.height}\"\n    def area(self):\n        return 0.5 * self.base * self.height",
      "metadata": {
        "trusted": true
      },
      "execution_count": 113,
      "outputs": []
    },
    {
      "cell_type": "code",
      "source": "triangle1 = Triangle(2, 22)\nprint(triangle1, \"\\n\")\n\ntri1Area = triangle1.area()\nprint(\"The area of triangle1 is\", tri1Area, \"\\n\")",
      "metadata": {
        "trusted": true
      },
      "execution_count": 114,
      "outputs": [
        {
          "name": "stdout",
          "text": "A triangle of base 2 and height 22 \n\nThe area of triangle1 is 22.0 \n\n",
          "output_type": "stream"
        }
      ]
    },
    {
      "cell_type": "markdown",
      "source": "## Part 6",
      "metadata": {}
    },
    {
      "cell_type": "code",
      "source": "class Right_Triangle(Triangle):\n    def __init__(self, base, height):\n        self.base = base\n        self.height = height\n    def __repr__(self):\n        return f\"A right triangle of base {self.base} and height {self.height}\"\n    def perimeter(self):\n        return self.base + self.height + (math.sqrt((self.base**2) + (self.height**2)))",
      "metadata": {
        "trusted": true
      },
      "execution_count": 115,
      "outputs": []
    },
    {
      "cell_type": "code",
      "source": "right_tri = Right_Triangle(3,4)\nprint(right_tri, '\\n')\n\ntriper = right_tri.perimeter()\nprint(\"The perimeter of the triangle is\", triper, '\\n')",
      "metadata": {
        "trusted": true
      },
      "execution_count": 116,
      "outputs": [
        {
          "name": "stdout",
          "text": "A right triangle of base 3 and height 4 \n\nThe perimeter of the triangle is 12.0 \n\n",
          "output_type": "stream"
        }
      ]
    }
  ]
}